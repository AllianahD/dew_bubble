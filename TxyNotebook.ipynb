{
 "cells": [
  {
   "cell_type": "markdown",
   "metadata": {},
   "source": [
    "<div style=\"text-align: center\">\n",
    "<b><font size=6>Txy Calculation Example\n",
    "    </font></b>\n",
    "</div>"
   ]
  },
  {
   "cell_type": "code",
   "execution_count": 1,
   "metadata": {},
   "outputs": [],
   "source": [
    "import numpy as np\n",
    "import matplotlib.pyplot as plt\n",
    "from scipy.optimize import fsolve"
   ]
  },
  {
   "cell_type": "markdown",
   "metadata": {},
   "source": [
    "# Create a $T$-$x$-$y$ diagram for propane/benzene at the bubble point\n",
    "\n",
    "## Bubble point calculation based on Rachford-Rice\n",
    "\n",
    "At the bubble point, the Rachford-Rice equation reduces to:\n",
    "$$\n",
    "    \\sum_{i=1}^C z_i K_i = 1.\n",
    "$$\n",
    "In residual form, this can be written as\n",
    "$$\n",
    "    r(T) = 1 - \\sum_{i=1}^C z_i K_i\n",
    "$$\n",
    "\n",
    "Remember that $K_i = f(T,P)$. For a $T$-$x$-$y$ diagram, $P$ is set, so we need to find the value of $T$ for which the above equations are satisfied. That means we'll need to set up an optimization problem to minimize the above equation with respect to $T$. \n",
    "\n",
    "Working backwards, we can see that we'll need a way to get $K_i$. So, we'll need a function for Raoult's Law\n",
    "\n",
    "$$\n",
    "    K_i = \\frac{P_i^{sat}}{P}\n",
    "$$\n",
    "\n",
    "Because $P_i^{sat}$ depends on temperature, we'll also need a function for Antoine's equation:\n",
    "\n",
    "$$\n",
    "    P_i^{sat} = 10^{(A - B / ( T + C))}\n",
    "$$"
   ]
  },
  {
   "cell_type": "code",
   "execution_count": 2,
   "metadata": {},
   "outputs": [],
   "source": [
    "from get_antoine_coefficient import get_antoine_coefficient\n",
    "from antoine import antoine\n",
    "from raoult_law_kvalue import raoult_law_kvalue"
   ]
  },
  {
   "cell_type": "code",
   "execution_count": 3,
   "metadata": {},
   "outputs": [
    {
     "data": {
      "text/plain": [
       "Text(0, 0.5, 'Temperature (K)')"
      ]
     },
     "execution_count": 3,
     "metadata": {},
     "output_type": "execute_result"
    },
    {
     "data": {
      "image/png": "[encoded data removed]",
      "text/plain": [
       "<Figure size 432x288 with 1 Axes>"
      ]
     },
     "metadata": {
      "needs_background": "light"
     },
     "output_type": "display_data"
    }
   ],
   "source": [
    "P = 1.01325  # Pressure in bar\n",
    "Tguess = 350 # K\n",
    "\n",
    "propane = get_antoine_coefficient('propane',Tguess)\n",
    "benzene = get_antoine_coefficient('benzene',Tguess)\n",
    "\n",
    "antoineCoefs = np.array( [propane[0:3], benzene[0:3]] )\n",
    "\n",
    "T_soln = []\n",
    "x_prop = np.linspace(0,1)\n",
    "y_prop = []\n",
    "for z_prop in x_prop:\n",
    "    z = [z_prop,1-z_prop]\n",
    "    def resfun(T):\n",
    "        return 1-np.sum(raoult_law_kvalue(T,P,antoineCoefs)*z)\n",
    "\n",
    "    T = fsolve(resfun,Tguess)\n",
    "    Tguess = T\n",
    "    T_soln.append(T)\n",
    "    K = raoult_law_kvalue(T,P,antoineCoefs)\n",
    "    y = K*z\n",
    "    y_prop.append(y[0])\n",
    "\n",
    "plt.plot(x_prop,T_soln)\n",
    "plt.plot(y_prop,T_soln)\n",
    "plt.xlabel('$x_{prop}$, $y_{prop}$')\n",
    "plt.ylabel('Temperature (K)')"
   ]
  }
 ],
 "metadata": {
  "hide_input": false,
  "kernelspec": {
   "display_name": "Python 3",
   "language": "python",
   "name": "python3"
  },
  "language_info": {
   "codemirror_mode": {
    "name": "ipython",
    "version": 3
   },
   "file_extension": ".py",
   "mimetype": "text/x-python",
   "name": "python",
   "nbconvert_exporter": "python",
   "pygments_lexer": "ipython3",
   "version": "3.7.9"
  },
  "latex_envs": {
   "LaTeX_envs_menu_present": true,
   "autoclose": false,
   "autocomplete": false,
   "bibliofile": "biblio.bib",
   "cite_by": "apalike",
   "current_citInitial": 1,
   "eqLabelWithNumbers": true,
   "eqNumInitial": 1,
   "hotkeys": {
    "equation": "Ctrl-E",
    "itemize": "Ctrl-I"
   },
   "labels_anchors": false,
   "latex_user_defs": false,
   "report_style_numbering": false,
   "user_envs_cfg": false
  },
  "toc": {
   "base_numbering": 1,
   "colors": {
    "hover_highlight": "#DAA520",
    "navigate_num": "#000000",
    "navigate_text": "#333333",
    "running_highlight": "#FF0000",
    "selected_highlight": "#FFD700",
    "sidebar_border": "#EEEEEE",
    "wrapper_background": "#FFFFFF"
   },
   "moveMenuLeft": true,
   "nav_menu": {},
   "navigate_menu": true,
   "number_sections": false,
   "sideBar": true,
   "skip_h1_title": false,
   "threshold": 4,
   "title_cell": "Table of Contents",
   "title_sidebar": "Contents",
   "toc_cell": false,
   "toc_position": {},
   "toc_section_display": true,
   "toc_window_display": false,
   "widenNotebook": false
  },
  "varInspector": {
   "cols": {
    "lenName": 16,
    "lenType": 16,
    "lenVar": 40
   },
   "kernels_config": {
    "python": {
     "delete_cmd_postfix": "",
     "delete_cmd_prefix": "del ",
     "library": "var_list.py",
     "varRefreshCmd": "print(var_dic_list())"
    },
    "r": {
     "delete_cmd_postfix": ") ",
     "delete_cmd_prefix": "rm(",
     "library": "var_list.r",
     "varRefreshCmd": "cat(var_dic_list()) "
    }
   },
   "types_to_exclude": [
    "module",
    "function",
    "builtin_function_or_method",
    "instance",
    "_Feature"
   ],
   "window_display": false
  }
 },
 "nbformat": 4,
 "nbformat_minor": 2
}